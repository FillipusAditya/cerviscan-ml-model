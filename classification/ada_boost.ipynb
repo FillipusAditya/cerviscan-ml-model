{
 "cells": [
  {
   "cell_type": "markdown",
   "metadata": {},
   "source": [
    "# 1. Import Dependencies"
   ]
  },
  {
   "cell_type": "code",
   "execution_count": 65,
   "metadata": {},
   "outputs": [],
   "source": [
    "import pickle\n",
    "import glob\n",
    "import os\n",
    "import warnings\n",
    "\n",
    "import numpy as np\n",
    "import pandas as pd\n",
    "import seaborn as sns\n",
    "import matplotlib.pyplot as plt\n",
    "\n",
    "from sklearn.model_selection import GridSearchCV, train_test_split\n",
    "from sklearn.ensemble import AdaBoostClassifier\n",
    "from sklearn.preprocessing import StandardScaler\n",
    "from sklearn.metrics import *\n",
    "\n",
    "from tqdm import tqdm\n",
    "\n"
   ]
  },
  {
   "cell_type": "markdown",
   "metadata": {},
   "source": [
    "# 2. Prepare Dataset"
   ]
  },
  {
   "cell_type": "markdown",
   "metadata": {},
   "source": [
    "Import Dataset"
   ]
  },
  {
   "cell_type": "code",
   "execution_count": 66,
   "metadata": {},
   "outputs": [
    {
     "data": {
      "application/vnd.microsoft.datawrangler.viewer.v0+json": {
       "columns": [
        {
         "name": "index",
         "rawType": "int64",
         "type": "integer"
        },
        {
         "name": "Image",
         "rawType": "object",
         "type": "string"
        },
        {
         "name": "mean_r",
         "rawType": "float64",
         "type": "float"
        },
        {
         "name": "mean_g",
         "rawType": "float64",
         "type": "float"
        },
        {
         "name": "mean_b",
         "rawType": "float64",
         "type": "float"
        },
        {
         "name": "std_r",
         "rawType": "float64",
         "type": "float"
        },
        {
         "name": "std_g",
         "rawType": "float64",
         "type": "float"
        },
        {
         "name": "std_b",
         "rawType": "float64",
         "type": "float"
        },
        {
         "name": "skew_r",
         "rawType": "float64",
         "type": "float"
        },
        {
         "name": "skew_g",
         "rawType": "float64",
         "type": "float"
        },
        {
         "name": "skew_b",
         "rawType": "float64",
         "type": "float"
        },
        {
         "name": "mean_lbp",
         "rawType": "float64",
         "type": "float"
        },
        {
         "name": "median_lbp",
         "rawType": "float64",
         "type": "float"
        },
        {
         "name": "std_lbp",
         "rawType": "float64",
         "type": "float"
        },
        {
         "name": "kurtosis_lbp",
         "rawType": "float64",
         "type": "float"
        },
        {
         "name": "skewness_lbp",
         "rawType": "float64",
         "type": "float"
        },
        {
         "name": "SRE_deg0",
         "rawType": "float64",
         "type": "float"
        },
        {
         "name": "LRE_deg0",
         "rawType": "float64",
         "type": "float"
        },
        {
         "name": "GLN_deg0",
         "rawType": "float64",
         "type": "float"
        },
        {
         "name": "RLN_deg0",
         "rawType": "float64",
         "type": "float"
        },
        {
         "name": "RP_deg0",
         "rawType": "float64",
         "type": "float"
        },
        {
         "name": "LGLRE_deg0",
         "rawType": "float64",
         "type": "float"
        },
        {
         "name": "HGL_deg0",
         "rawType": "float64",
         "type": "float"
        },
        {
         "name": "SRLGLE_deg0",
         "rawType": "float64",
         "type": "float"
        },
        {
         "name": "SRHGLE_deg0",
         "rawType": "float64",
         "type": "float"
        },
        {
         "name": "LRHGLE_deg0",
         "rawType": "float64",
         "type": "float"
        },
        {
         "name": "SRE_deg45",
         "rawType": "float64",
         "type": "float"
        },
        {
         "name": "LRE_deg45",
         "rawType": "float64",
         "type": "float"
        },
        {
         "name": "GLN_deg45",
         "rawType": "float64",
         "type": "float"
        },
        {
         "name": "RLN_deg45",
         "rawType": "float64",
         "type": "float"
        },
        {
         "name": "RP_deg45",
         "rawType": "float64",
         "type": "float"
        },
        {
         "name": "LGLRE_deg45",
         "rawType": "float64",
         "type": "float"
        },
        {
         "name": "HGL_deg45",
         "rawType": "float64",
         "type": "float"
        },
        {
         "name": "SRLGLE_deg45",
         "rawType": "float64",
         "type": "float"
        },
        {
         "name": "SRHGLE_deg45",
         "rawType": "float64",
         "type": "float"
        },
        {
         "name": "LRHGLE_deg45",
         "rawType": "float64",
         "type": "float"
        },
        {
         "name": "SRE_deg90",
         "rawType": "float64",
         "type": "float"
        },
        {
         "name": "LRE_deg90",
         "rawType": "float64",
         "type": "float"
        },
        {
         "name": "GLN_deg90",
         "rawType": "float64",
         "type": "float"
        },
        {
         "name": "RLN_deg90",
         "rawType": "float64",
         "type": "float"
        },
        {
         "name": "RP_deg90",
         "rawType": "float64",
         "type": "float"
        },
        {
         "name": "LGLRE_deg90",
         "rawType": "float64",
         "type": "float"
        },
        {
         "name": "HGL_deg90",
         "rawType": "float64",
         "type": "float"
        },
        {
         "name": "SRLGLE_deg90",
         "rawType": "float64",
         "type": "float"
        },
        {
         "name": "SRHGLE_deg90",
         "rawType": "float64",
         "type": "float"
        },
        {
         "name": "LRHGLE_deg90",
         "rawType": "float64",
         "type": "float"
        },
        {
         "name": "SRE_deg135",
         "rawType": "float64",
         "type": "float"
        },
        {
         "name": "LRE_deg135",
         "rawType": "float64",
         "type": "float"
        },
        {
         "name": "GLN_deg135",
         "rawType": "float64",
         "type": "float"
        },
        {
         "name": "RLN_deg135",
         "rawType": "float64",
         "type": "float"
        },
        {
         "name": "RP_deg135",
         "rawType": "float64",
         "type": "float"
        },
        {
         "name": "LGLRE_deg135",
         "rawType": "float64",
         "type": "float"
        },
        {
         "name": "HGL_deg135",
         "rawType": "float64",
         "type": "float"
        },
        {
         "name": "SRLGLE_deg135",
         "rawType": "float64",
         "type": "float"
        },
        {
         "name": "SRHGLE_deg135",
         "rawType": "float64",
         "type": "float"
        },
        {
         "name": "LRHGLE_deg135",
         "rawType": "float64",
         "type": "float"
        },
        {
         "name": "coarseness_tamura",
         "rawType": "float64",
         "type": "float"
        },
        {
         "name": "contrast_tamura",
         "rawType": "float64",
         "type": "float"
        },
        {
         "name": "directionality_tamura",
         "rawType": "float64",
         "type": "float"
        },
        {
         "name": "roughness_tamura",
         "rawType": "float64",
         "type": "float"
        },
        {
         "name": "label",
         "rawType": "object",
         "type": "string"
        }
       ],
       "conversionMethod": "pd.DataFrame",
       "ref": "fd811c75-519a-47b8-b008-b8f09ef1cc40",
       "rows": [
        [
         "0",
         "AAA1",
         "42.71488126882864",
         "39.962581959950384",
         "41.213738259790894",
         "92.11598390388306",
         "88.11830221378543",
         "90.05878013348791",
         "1.7668514998960123",
         "1.7876300882306837",
         "1.7765349578102232",
         "218.7216551479709",
         "255.0",
         "75.16825335810451",
         "18.29575185790372",
         "-1.4478856391353512",
         "0.8746194984701794",
         "626.6279949162914",
         "2554.9754287417823",
         "46420.34398192459",
         "0.5029434974747474",
         "0.1416651756698864",
         "27171.18114634491",
         "0.1069257765875988",
         "25022.080110754545",
         "163485.01837352707",
         "0.8691813428237208",
         "269.05888944411635",
         "2749.695437544481",
         "47593.8895652569",
         "0.5211410984848485",
         "0.1419413593369904",
         "27024.099607807508",
         "0.1091314045868599",
         "25046.32296695332",
         "120922.0777722255",
         "0.8778203640159559",
         "529.7482831814209",
         "2576.9786178049694",
         "47089.17236858534",
         "0.5056186868686868",
         "0.1414224070476116",
         "27180.33677737545",
         "0.108419718991492",
         "24973.60114209927",
         "135111.87623298788",
         "0.8670396728052767",
         "262.0384819011027",
         "2767.2067494592266",
         "47369.04338289794",
         "0.5216934974747475",
         "0.1420831355145246",
         "27034.211378178465",
         "0.1092778018195679",
         "24976.536910846942",
         "99979.87218079231",
         "5.38852560694666",
         "62.55842583284927",
         "450.3414037412713",
         "67.94695143979592",
         "normal"
        ],
        [
         "1",
         "AAB1",
         "50.925730263069454",
         "46.58723501498837",
         "48.38665519574501",
         "98.59570414812222",
         "91.78823156415775",
         "95.08096160204164",
         "1.4777911664446044",
         "1.4978481787181923",
         "1.4901275262529812",
         "210.70011157263647",
         "255.0",
         "80.820841918005",
         "13.259924747416395",
         "-1.6443736804538736",
         "0.8848850169225025",
         "410.3631982446746",
         "2702.508952943174",
         "57273.39614977732",
         "0.5508100253222836",
         "0.1287765501654743",
         "30213.260843444303",
         "0.0940647938873482",
         "28635.24334459161",
         "38154.67569579584",
         "0.8794766445624516",
         "171.22133147878864",
         "3017.932186887526",
         "58489.04023518998",
         "0.5689240906998159",
         "0.1342670370290279",
         "29640.88970095467",
         "0.1014278621882077",
         "28338.93814029463",
         "35835.8929253335",
         "0.8856423754742783",
         "339.07093368957345",
         "2707.605870103336",
         "57264.29435647584",
         "0.5492705455801105",
         "0.1295698314175784",
         "30123.18392204629",
         "0.0962771708749472",
         "28477.98208060846",
         "38966.56773145784",
         "0.8783178350447491",
         "168.44091824712098",
         "2988.8109282556093",
         "58241.86878745265",
         "0.5678306284530387",
         "0.1335165757461467",
         "29700.714352678853",
         "0.1010888221078507",
         "28390.42873578072",
         "35857.20431251821",
         "6.0218350786161405",
         "70.18667775549919",
         "474.5815747097212",
         "76.20851283411533",
         "abnormal"
        ],
        [
         "2",
         "AAE1",
         "50.00561475339626",
         "45.54909804190294",
         "44.83502646771624",
         "99.1362113057625",
         "91.36192034342986",
         "89.9724722970587",
         "1.5166930723292895",
         "1.5372296572628688",
         "1.5417196008116894",
         "218.9999657375841",
         "255.0",
         "73.24524534349003",
         "18.23187000043632",
         "-1.474499843379206",
         "0.835531385419749",
         "500.9500715485597",
         "2218.225471287252",
         "42312.710010576746",
         "0.4668041356877323",
         "0.1293296481130116",
         "32640.282196851866",
         "0.0877143549018906",
         "28947.50872617971",
         "63155.68826603621",
         "0.8356351035241509",
         "196.94914763263475",
         "2644.035412713816",
         "45551.92898628391",
         "0.5012996631040892",
         "0.1333593853825081",
         "32190.2629810408",
         "0.095135789810017",
         "29242.23971636685",
         "49312.26534188839",
         "0.8321271824866766",
         "356.24449291836925",
         "2291.6859811361333",
         "42443.17392239393",
         "0.47265625",
         "0.1302969027357117",
         "32514.999784939628",
         "0.0884542282139382",
         "28764.7553642359",
         "59097.633168453714",
         "0.8345695342208853",
         "183.60512798252088",
         "2673.7740301833283",
         "45460.31261304279",
         "0.5017933898698885",
         "0.1342761538220071",
         "32100.90347412134",
         "0.0959073143012722",
         "29096.42747444802",
         "49395.42327560012",
         "6.946691963750364",
         "69.06512654656719",
         "595.7498177576907",
         "76.01181851031755",
         "abnormal"
        ],
        [
         "3",
         "AAG1",
         "29.890212000388992",
         "22.47932023728484",
         "22.611577360692404",
         "77.79042185924169",
         "60.63789739150808",
         "60.88590796682263",
         "2.36622138530593",
         "2.4119682705501284",
         "2.409294258797945",
         "217.4641592920354",
         "255.0",
         "75.28726834312934",
         "17.294330831247294",
         "-1.4957047134539887",
         "0.8209225049528566",
         "258.5520232178003",
         "3925.377255896187",
         "38009.072088601264",
         "0.4145049778761062",
         "0.2008386090052448",
         "14853.688444474095",
         "0.1340978686376405",
         "13680.667390807552",
         "22661.084631550857",
         "0.8175530471925664",
         "139.60086617035736",
         "4471.917761234135",
         "39809.18278091264",
         "0.4374101216814159",
         "0.203892648387021",
         "14521.70882134446",
         "0.1406146182719298",
         "13572.501859829195",
         "19739.484375740907",
         "0.8223398500636545",
         "435.940734218369",
         "3745.969046328908",
         "37555.90260092116",
         "0.4082964601769911",
         "0.198357346422032",
         "15063.28630452452",
         "0.1310431759117763",
         "13860.931789639386",
         "23139.7137632078",
         "0.8160342181266296",
         "137.48675392008093",
         "4499.902977996965",
         "39638.97698533131",
         "0.4373893805309734",
         "0.2047674858376192",
         "14482.550850404654",
         "0.1418772776197507",
         "13504.62515243082",
         "19772.51166540213",
         "7.060862588738695",
         "40.75249729905379",
         "571.2985518439855",
         "47.81335988779249",
         "normal"
        ],
        [
         "4",
         "AAI1",
         "55.61749188311688",
         "48.611781584643424",
         "51.636028992936886",
         "100.93932161414811",
         "90.48777137636772",
         "95.80252054868652",
         "1.3497145542255813",
         "1.3701458084864768",
         "1.3622251968149717",
         "196.7775511221235",
         "255.0",
         "88.71639121001076",
         "8.395628395162078",
         "-1.9688283557449309",
         "0.8762319394096116",
         "121.71474903961207",
         "5888.023253983249",
         "92927.96814975754",
         "0.816149259868421",
         "0.1612665010705783",
         "23815.7618159204",
         "0.1165002316241224",
         "22753.92067741919",
         "28855.68530763902",
         "0.8686890385910534",
         "63.76164150379169",
         "6460.604760115629",
         "93726.1858423365",
         "0.8378970497532895",
         "0.1659853589566821",
         "23303.28958648029",
         "0.1229944009742688",
         "22313.498609496222",
         "27766.100585046428",
         "0.8718190904841975",
         "112.29412611344772",
         "5729.635780652796",
         "90439.9559098687",
         "0.8034924958881579",
         "0.1598104021124817",
         "23861.506084981847",
         "0.1149185421738365",
         "22583.66481987783",
         "30190.95789288513",
         "0.8678735446026824",
         "64.37161440935026",
         "6442.49399866381",
         "93376.70984710607",
         "0.8366377981085527",
         "0.1663176982237953",
         "23324.326007326006",
         "0.1231979275105748",
         "22332.038124511168",
         "27858.68520438332",
         "6.849154135338346",
         "72.33463181883604",
         "546.5810739704783",
         "79.1837859541744",
         "abnormal"
        ]
       ],
       "shape": {
        "columns": 60,
        "rows": 5
       }
      },
      "text/html": [
       "<div>\n",
       "<style scoped>\n",
       "    .dataframe tbody tr th:only-of-type {\n",
       "        vertical-align: middle;\n",
       "    }\n",
       "\n",
       "    .dataframe tbody tr th {\n",
       "        vertical-align: top;\n",
       "    }\n",
       "\n",
       "    .dataframe thead th {\n",
       "        text-align: right;\n",
       "    }\n",
       "</style>\n",
       "<table border=\"1\" class=\"dataframe\">\n",
       "  <thead>\n",
       "    <tr style=\"text-align: right;\">\n",
       "      <th></th>\n",
       "      <th>Image</th>\n",
       "      <th>mean_r</th>\n",
       "      <th>mean_g</th>\n",
       "      <th>mean_b</th>\n",
       "      <th>std_r</th>\n",
       "      <th>std_g</th>\n",
       "      <th>std_b</th>\n",
       "      <th>skew_r</th>\n",
       "      <th>skew_g</th>\n",
       "      <th>skew_b</th>\n",
       "      <th>...</th>\n",
       "      <th>LGLRE_deg135</th>\n",
       "      <th>HGL_deg135</th>\n",
       "      <th>SRLGLE_deg135</th>\n",
       "      <th>SRHGLE_deg135</th>\n",
       "      <th>LRHGLE_deg135</th>\n",
       "      <th>coarseness_tamura</th>\n",
       "      <th>contrast_tamura</th>\n",
       "      <th>directionality_tamura</th>\n",
       "      <th>roughness_tamura</th>\n",
       "      <th>label</th>\n",
       "    </tr>\n",
       "  </thead>\n",
       "  <tbody>\n",
       "    <tr>\n",
       "      <th>0</th>\n",
       "      <td>AAA1</td>\n",
       "      <td>42.714881</td>\n",
       "      <td>39.962582</td>\n",
       "      <td>41.213738</td>\n",
       "      <td>92.115984</td>\n",
       "      <td>88.118302</td>\n",
       "      <td>90.058780</td>\n",
       "      <td>1.766851</td>\n",
       "      <td>1.787630</td>\n",
       "      <td>1.776535</td>\n",
       "      <td>...</td>\n",
       "      <td>0.142083</td>\n",
       "      <td>27034.211378</td>\n",
       "      <td>0.109278</td>\n",
       "      <td>24976.536911</td>\n",
       "      <td>99979.872181</td>\n",
       "      <td>5.388526</td>\n",
       "      <td>62.558426</td>\n",
       "      <td>450.341404</td>\n",
       "      <td>67.946951</td>\n",
       "      <td>normal</td>\n",
       "    </tr>\n",
       "    <tr>\n",
       "      <th>1</th>\n",
       "      <td>AAB1</td>\n",
       "      <td>50.925730</td>\n",
       "      <td>46.587235</td>\n",
       "      <td>48.386655</td>\n",
       "      <td>98.595704</td>\n",
       "      <td>91.788232</td>\n",
       "      <td>95.080962</td>\n",
       "      <td>1.477791</td>\n",
       "      <td>1.497848</td>\n",
       "      <td>1.490128</td>\n",
       "      <td>...</td>\n",
       "      <td>0.133517</td>\n",
       "      <td>29700.714353</td>\n",
       "      <td>0.101089</td>\n",
       "      <td>28390.428736</td>\n",
       "      <td>35857.204313</td>\n",
       "      <td>6.021835</td>\n",
       "      <td>70.186678</td>\n",
       "      <td>474.581575</td>\n",
       "      <td>76.208513</td>\n",
       "      <td>abnormal</td>\n",
       "    </tr>\n",
       "    <tr>\n",
       "      <th>2</th>\n",
       "      <td>AAE1</td>\n",
       "      <td>50.005615</td>\n",
       "      <td>45.549098</td>\n",
       "      <td>44.835026</td>\n",
       "      <td>99.136211</td>\n",
       "      <td>91.361920</td>\n",
       "      <td>89.972472</td>\n",
       "      <td>1.516693</td>\n",
       "      <td>1.537230</td>\n",
       "      <td>1.541720</td>\n",
       "      <td>...</td>\n",
       "      <td>0.134276</td>\n",
       "      <td>32100.903474</td>\n",
       "      <td>0.095907</td>\n",
       "      <td>29096.427474</td>\n",
       "      <td>49395.423276</td>\n",
       "      <td>6.946692</td>\n",
       "      <td>69.065127</td>\n",
       "      <td>595.749818</td>\n",
       "      <td>76.011819</td>\n",
       "      <td>abnormal</td>\n",
       "    </tr>\n",
       "    <tr>\n",
       "      <th>3</th>\n",
       "      <td>AAG1</td>\n",
       "      <td>29.890212</td>\n",
       "      <td>22.479320</td>\n",
       "      <td>22.611577</td>\n",
       "      <td>77.790422</td>\n",
       "      <td>60.637897</td>\n",
       "      <td>60.885908</td>\n",
       "      <td>2.366221</td>\n",
       "      <td>2.411968</td>\n",
       "      <td>2.409294</td>\n",
       "      <td>...</td>\n",
       "      <td>0.204767</td>\n",
       "      <td>14482.550850</td>\n",
       "      <td>0.141877</td>\n",
       "      <td>13504.625152</td>\n",
       "      <td>19772.511665</td>\n",
       "      <td>7.060863</td>\n",
       "      <td>40.752497</td>\n",
       "      <td>571.298552</td>\n",
       "      <td>47.813360</td>\n",
       "      <td>normal</td>\n",
       "    </tr>\n",
       "    <tr>\n",
       "      <th>4</th>\n",
       "      <td>AAI1</td>\n",
       "      <td>55.617492</td>\n",
       "      <td>48.611782</td>\n",
       "      <td>51.636029</td>\n",
       "      <td>100.939322</td>\n",
       "      <td>90.487771</td>\n",
       "      <td>95.802521</td>\n",
       "      <td>1.349715</td>\n",
       "      <td>1.370146</td>\n",
       "      <td>1.362225</td>\n",
       "      <td>...</td>\n",
       "      <td>0.166318</td>\n",
       "      <td>23324.326007</td>\n",
       "      <td>0.123198</td>\n",
       "      <td>22332.038125</td>\n",
       "      <td>27858.685204</td>\n",
       "      <td>6.849154</td>\n",
       "      <td>72.334632</td>\n",
       "      <td>546.581074</td>\n",
       "      <td>79.183786</td>\n",
       "      <td>abnormal</td>\n",
       "    </tr>\n",
       "  </tbody>\n",
       "</table>\n",
       "<p>5 rows × 60 columns</p>\n",
       "</div>"
      ],
      "text/plain": [
       "  Image     mean_r     mean_g     mean_b       std_r      std_g      std_b  \\\n",
       "0  AAA1  42.714881  39.962582  41.213738   92.115984  88.118302  90.058780   \n",
       "1  AAB1  50.925730  46.587235  48.386655   98.595704  91.788232  95.080962   \n",
       "2  AAE1  50.005615  45.549098  44.835026   99.136211  91.361920  89.972472   \n",
       "3  AAG1  29.890212  22.479320  22.611577   77.790422  60.637897  60.885908   \n",
       "4  AAI1  55.617492  48.611782  51.636029  100.939322  90.487771  95.802521   \n",
       "\n",
       "     skew_r    skew_g    skew_b  ...  LGLRE_deg135    HGL_deg135  \\\n",
       "0  1.766851  1.787630  1.776535  ...      0.142083  27034.211378   \n",
       "1  1.477791  1.497848  1.490128  ...      0.133517  29700.714353   \n",
       "2  1.516693  1.537230  1.541720  ...      0.134276  32100.903474   \n",
       "3  2.366221  2.411968  2.409294  ...      0.204767  14482.550850   \n",
       "4  1.349715  1.370146  1.362225  ...      0.166318  23324.326007   \n",
       "\n",
       "   SRLGLE_deg135  SRHGLE_deg135  LRHGLE_deg135  coarseness_tamura  \\\n",
       "0       0.109278   24976.536911   99979.872181           5.388526   \n",
       "1       0.101089   28390.428736   35857.204313           6.021835   \n",
       "2       0.095907   29096.427474   49395.423276           6.946692   \n",
       "3       0.141877   13504.625152   19772.511665           7.060863   \n",
       "4       0.123198   22332.038125   27858.685204           6.849154   \n",
       "\n",
       "   contrast_tamura  directionality_tamura  roughness_tamura     label  \n",
       "0        62.558426             450.341404         67.946951    normal  \n",
       "1        70.186678             474.581575         76.208513  abnormal  \n",
       "2        69.065127             595.749818         76.011819  abnormal  \n",
       "3        40.752497             571.298552         47.813360    normal  \n",
       "4        72.334632             546.581074         79.183786  abnormal  \n",
       "\n",
       "[5 rows x 60 columns]"
      ]
     },
     "execution_count": 66,
     "metadata": {},
     "output_type": "execute_result"
    }
   ],
   "source": [
    "df = pd.read_csv(\"../features_data/dt_classification/percobaan_1/with_deletion/RGB + LBP + GLRLM + TAMURA.csv\")\n",
    "df.head()"
   ]
  },
  {
   "cell_type": "markdown",
   "metadata": {},
   "source": [
    "Split Dataset Into X and y"
   ]
  },
  {
   "cell_type": "code",
   "execution_count": 67,
   "metadata": {},
   "outputs": [
    {
     "data": {
      "text/plain": [
       "(162, 58)"
      ]
     },
     "execution_count": 67,
     "metadata": {},
     "output_type": "execute_result"
    }
   ],
   "source": [
    "X = df.drop(columns=['Image', 'label'], axis='columns')\n",
    "X.shape"
   ]
  },
  {
   "cell_type": "code",
   "execution_count": 68,
   "metadata": {},
   "outputs": [
    {
     "data": {
      "text/plain": [
       "(162,)"
      ]
     },
     "execution_count": 68,
     "metadata": {},
     "output_type": "execute_result"
    }
   ],
   "source": [
    "y = df['label']\n",
    "y.shape"
   ]
  },
  {
   "cell_type": "markdown",
   "metadata": {},
   "source": [
    "Split Data Into X_train, X_test, y_train, y_test"
   ]
  },
  {
   "cell_type": "code",
   "execution_count": 69,
   "metadata": {},
   "outputs": [],
   "source": [
    "X_train, X_test, y_train, y_test = train_test_split(X, y, test_size=0.2, random_state=123)"
   ]
  },
  {
   "cell_type": "markdown",
   "metadata": {},
   "source": [
    "Scaling X_train and X_test"
   ]
  },
  {
   "cell_type": "code",
   "execution_count": 70,
   "metadata": {},
   "outputs": [],
   "source": [
    "scaler = StandardScaler()\n",
    "X_train = scaler.fit_transform(X_train)\n",
    "X_test = scaler.transform(X_test)"
   ]
  },
  {
   "cell_type": "markdown",
   "metadata": {},
   "source": [
    "# 3. Classification"
   ]
  },
  {
   "cell_type": "code",
   "execution_count": 71,
   "metadata": {},
   "outputs": [],
   "source": [
    "adb_model = AdaBoostClassifier(n_estimators=50, learning_rate=1)"
   ]
  },
  {
   "cell_type": "markdown",
   "metadata": {},
   "source": [
    "Train Model"
   ]
  },
  {
   "cell_type": "code",
   "execution_count": 72,
   "metadata": {},
   "outputs": [
    {
     "data": {
      "text/html": [
       "<style>#sk-container-id-5 {\n",
       "  /* Definition of color scheme common for light and dark mode */\n",
       "  --sklearn-color-text: #000;\n",
       "  --sklearn-color-text-muted: #666;\n",
       "  --sklearn-color-line: gray;\n",
       "  /* Definition of color scheme for unfitted estimators */\n",
       "  --sklearn-color-unfitted-level-0: #fff5e6;\n",
       "  --sklearn-color-unfitted-level-1: #f6e4d2;\n",
       "  --sklearn-color-unfitted-level-2: #ffe0b3;\n",
       "  --sklearn-color-unfitted-level-3: chocolate;\n",
       "  /* Definition of color scheme for fitted estimators */\n",
       "  --sklearn-color-fitted-level-0: #f0f8ff;\n",
       "  --sklearn-color-fitted-level-1: #d4ebff;\n",
       "  --sklearn-color-fitted-level-2: #b3dbfd;\n",
       "  --sklearn-color-fitted-level-3: cornflowerblue;\n",
       "\n",
       "  /* Specific color for light theme */\n",
       "  --sklearn-color-text-on-default-background: var(--sg-text-color, var(--theme-code-foreground, var(--jp-content-font-color1, black)));\n",
       "  --sklearn-color-background: var(--sg-background-color, var(--theme-background, var(--jp-layout-color0, white)));\n",
       "  --sklearn-color-border-box: var(--sg-text-color, var(--theme-code-foreground, var(--jp-content-font-color1, black)));\n",
       "  --sklearn-color-icon: #696969;\n",
       "\n",
       "  @media (prefers-color-scheme: dark) {\n",
       "    /* Redefinition of color scheme for dark theme */\n",
       "    --sklearn-color-text-on-default-background: var(--sg-text-color, var(--theme-code-foreground, var(--jp-content-font-color1, white)));\n",
       "    --sklearn-color-background: var(--sg-background-color, var(--theme-background, var(--jp-layout-color0, #111)));\n",
       "    --sklearn-color-border-box: var(--sg-text-color, var(--theme-code-foreground, var(--jp-content-font-color1, white)));\n",
       "    --sklearn-color-icon: #878787;\n",
       "  }\n",
       "}\n",
       "\n",
       "#sk-container-id-5 {\n",
       "  color: var(--sklearn-color-text);\n",
       "}\n",
       "\n",
       "#sk-container-id-5 pre {\n",
       "  padding: 0;\n",
       "}\n",
       "\n",
       "#sk-container-id-5 input.sk-hidden--visually {\n",
       "  border: 0;\n",
       "  clip: rect(1px 1px 1px 1px);\n",
       "  clip: rect(1px, 1px, 1px, 1px);\n",
       "  height: 1px;\n",
       "  margin: -1px;\n",
       "  overflow: hidden;\n",
       "  padding: 0;\n",
       "  position: absolute;\n",
       "  width: 1px;\n",
       "}\n",
       "\n",
       "#sk-container-id-5 div.sk-dashed-wrapped {\n",
       "  border: 1px dashed var(--sklearn-color-line);\n",
       "  margin: 0 0.4em 0.5em 0.4em;\n",
       "  box-sizing: border-box;\n",
       "  padding-bottom: 0.4em;\n",
       "  background-color: var(--sklearn-color-background);\n",
       "}\n",
       "\n",
       "#sk-container-id-5 div.sk-container {\n",
       "  /* jupyter's `normalize.less` sets `[hidden] { display: none; }`\n",
       "     but bootstrap.min.css set `[hidden] { display: none !important; }`\n",
       "     so we also need the `!important` here to be able to override the\n",
       "     default hidden behavior on the sphinx rendered scikit-learn.org.\n",
       "     See: https://github.com/scikit-learn/scikit-learn/issues/21755 */\n",
       "  display: inline-block !important;\n",
       "  position: relative;\n",
       "}\n",
       "\n",
       "#sk-container-id-5 div.sk-text-repr-fallback {\n",
       "  display: none;\n",
       "}\n",
       "\n",
       "div.sk-parallel-item,\n",
       "div.sk-serial,\n",
       "div.sk-item {\n",
       "  /* draw centered vertical line to link estimators */\n",
       "  background-image: linear-gradient(var(--sklearn-color-text-on-default-background), var(--sklearn-color-text-on-default-background));\n",
       "  background-size: 2px 100%;\n",
       "  background-repeat: no-repeat;\n",
       "  background-position: center center;\n",
       "}\n",
       "\n",
       "/* Parallel-specific style estimator block */\n",
       "\n",
       "#sk-container-id-5 div.sk-parallel-item::after {\n",
       "  content: \"\";\n",
       "  width: 100%;\n",
       "  border-bottom: 2px solid var(--sklearn-color-text-on-default-background);\n",
       "  flex-grow: 1;\n",
       "}\n",
       "\n",
       "#sk-container-id-5 div.sk-parallel {\n",
       "  display: flex;\n",
       "  align-items: stretch;\n",
       "  justify-content: center;\n",
       "  background-color: var(--sklearn-color-background);\n",
       "  position: relative;\n",
       "}\n",
       "\n",
       "#sk-container-id-5 div.sk-parallel-item {\n",
       "  display: flex;\n",
       "  flex-direction: column;\n",
       "}\n",
       "\n",
       "#sk-container-id-5 div.sk-parallel-item:first-child::after {\n",
       "  align-self: flex-end;\n",
       "  width: 50%;\n",
       "}\n",
       "\n",
       "#sk-container-id-5 div.sk-parallel-item:last-child::after {\n",
       "  align-self: flex-start;\n",
       "  width: 50%;\n",
       "}\n",
       "\n",
       "#sk-container-id-5 div.sk-parallel-item:only-child::after {\n",
       "  width: 0;\n",
       "}\n",
       "\n",
       "/* Serial-specific style estimator block */\n",
       "\n",
       "#sk-container-id-5 div.sk-serial {\n",
       "  display: flex;\n",
       "  flex-direction: column;\n",
       "  align-items: center;\n",
       "  background-color: var(--sklearn-color-background);\n",
       "  padding-right: 1em;\n",
       "  padding-left: 1em;\n",
       "}\n",
       "\n",
       "\n",
       "/* Toggleable style: style used for estimator/Pipeline/ColumnTransformer box that is\n",
       "clickable and can be expanded/collapsed.\n",
       "- Pipeline and ColumnTransformer use this feature and define the default style\n",
       "- Estimators will overwrite some part of the style using the `sk-estimator` class\n",
       "*/\n",
       "\n",
       "/* Pipeline and ColumnTransformer style (default) */\n",
       "\n",
       "#sk-container-id-5 div.sk-toggleable {\n",
       "  /* Default theme specific background. It is overwritten whether we have a\n",
       "  specific estimator or a Pipeline/ColumnTransformer */\n",
       "  background-color: var(--sklearn-color-background);\n",
       "}\n",
       "\n",
       "/* Toggleable label */\n",
       "#sk-container-id-5 label.sk-toggleable__label {\n",
       "  cursor: pointer;\n",
       "  display: flex;\n",
       "  width: 100%;\n",
       "  margin-bottom: 0;\n",
       "  padding: 0.5em;\n",
       "  box-sizing: border-box;\n",
       "  text-align: center;\n",
       "  align-items: start;\n",
       "  justify-content: space-between;\n",
       "  gap: 0.5em;\n",
       "}\n",
       "\n",
       "#sk-container-id-5 label.sk-toggleable__label .caption {\n",
       "  font-size: 0.6rem;\n",
       "  font-weight: lighter;\n",
       "  color: var(--sklearn-color-text-muted);\n",
       "}\n",
       "\n",
       "#sk-container-id-5 label.sk-toggleable__label-arrow:before {\n",
       "  /* Arrow on the left of the label */\n",
       "  content: \"▸\";\n",
       "  float: left;\n",
       "  margin-right: 0.25em;\n",
       "  color: var(--sklearn-color-icon);\n",
       "}\n",
       "\n",
       "#sk-container-id-5 label.sk-toggleable__label-arrow:hover:before {\n",
       "  color: var(--sklearn-color-text);\n",
       "}\n",
       "\n",
       "/* Toggleable content - dropdown */\n",
       "\n",
       "#sk-container-id-5 div.sk-toggleable__content {\n",
       "  max-height: 0;\n",
       "  max-width: 0;\n",
       "  overflow: hidden;\n",
       "  text-align: left;\n",
       "  /* unfitted */\n",
       "  background-color: var(--sklearn-color-unfitted-level-0);\n",
       "}\n",
       "\n",
       "#sk-container-id-5 div.sk-toggleable__content.fitted {\n",
       "  /* fitted */\n",
       "  background-color: var(--sklearn-color-fitted-level-0);\n",
       "}\n",
       "\n",
       "#sk-container-id-5 div.sk-toggleable__content pre {\n",
       "  margin: 0.2em;\n",
       "  border-radius: 0.25em;\n",
       "  color: var(--sklearn-color-text);\n",
       "  /* unfitted */\n",
       "  background-color: var(--sklearn-color-unfitted-level-0);\n",
       "}\n",
       "\n",
       "#sk-container-id-5 div.sk-toggleable__content.fitted pre {\n",
       "  /* unfitted */\n",
       "  background-color: var(--sklearn-color-fitted-level-0);\n",
       "}\n",
       "\n",
       "#sk-container-id-5 input.sk-toggleable__control:checked~div.sk-toggleable__content {\n",
       "  /* Expand drop-down */\n",
       "  max-height: 200px;\n",
       "  max-width: 100%;\n",
       "  overflow: auto;\n",
       "}\n",
       "\n",
       "#sk-container-id-5 input.sk-toggleable__control:checked~label.sk-toggleable__label-arrow:before {\n",
       "  content: \"▾\";\n",
       "}\n",
       "\n",
       "/* Pipeline/ColumnTransformer-specific style */\n",
       "\n",
       "#sk-container-id-5 div.sk-label input.sk-toggleable__control:checked~label.sk-toggleable__label {\n",
       "  color: var(--sklearn-color-text);\n",
       "  background-color: var(--sklearn-color-unfitted-level-2);\n",
       "}\n",
       "\n",
       "#sk-container-id-5 div.sk-label.fitted input.sk-toggleable__control:checked~label.sk-toggleable__label {\n",
       "  background-color: var(--sklearn-color-fitted-level-2);\n",
       "}\n",
       "\n",
       "/* Estimator-specific style */\n",
       "\n",
       "/* Colorize estimator box */\n",
       "#sk-container-id-5 div.sk-estimator input.sk-toggleable__control:checked~label.sk-toggleable__label {\n",
       "  /* unfitted */\n",
       "  background-color: var(--sklearn-color-unfitted-level-2);\n",
       "}\n",
       "\n",
       "#sk-container-id-5 div.sk-estimator.fitted input.sk-toggleable__control:checked~label.sk-toggleable__label {\n",
       "  /* fitted */\n",
       "  background-color: var(--sklearn-color-fitted-level-2);\n",
       "}\n",
       "\n",
       "#sk-container-id-5 div.sk-label label.sk-toggleable__label,\n",
       "#sk-container-id-5 div.sk-label label {\n",
       "  /* The background is the default theme color */\n",
       "  color: var(--sklearn-color-text-on-default-background);\n",
       "}\n",
       "\n",
       "/* On hover, darken the color of the background */\n",
       "#sk-container-id-5 div.sk-label:hover label.sk-toggleable__label {\n",
       "  color: var(--sklearn-color-text);\n",
       "  background-color: var(--sklearn-color-unfitted-level-2);\n",
       "}\n",
       "\n",
       "/* Label box, darken color on hover, fitted */\n",
       "#sk-container-id-5 div.sk-label.fitted:hover label.sk-toggleable__label.fitted {\n",
       "  color: var(--sklearn-color-text);\n",
       "  background-color: var(--sklearn-color-fitted-level-2);\n",
       "}\n",
       "\n",
       "/* Estimator label */\n",
       "\n",
       "#sk-container-id-5 div.sk-label label {\n",
       "  font-family: monospace;\n",
       "  font-weight: bold;\n",
       "  display: inline-block;\n",
       "  line-height: 1.2em;\n",
       "}\n",
       "\n",
       "#sk-container-id-5 div.sk-label-container {\n",
       "  text-align: center;\n",
       "}\n",
       "\n",
       "/* Estimator-specific */\n",
       "#sk-container-id-5 div.sk-estimator {\n",
       "  font-family: monospace;\n",
       "  border: 1px dotted var(--sklearn-color-border-box);\n",
       "  border-radius: 0.25em;\n",
       "  box-sizing: border-box;\n",
       "  margin-bottom: 0.5em;\n",
       "  /* unfitted */\n",
       "  background-color: var(--sklearn-color-unfitted-level-0);\n",
       "}\n",
       "\n",
       "#sk-container-id-5 div.sk-estimator.fitted {\n",
       "  /* fitted */\n",
       "  background-color: var(--sklearn-color-fitted-level-0);\n",
       "}\n",
       "\n",
       "/* on hover */\n",
       "#sk-container-id-5 div.sk-estimator:hover {\n",
       "  /* unfitted */\n",
       "  background-color: var(--sklearn-color-unfitted-level-2);\n",
       "}\n",
       "\n",
       "#sk-container-id-5 div.sk-estimator.fitted:hover {\n",
       "  /* fitted */\n",
       "  background-color: var(--sklearn-color-fitted-level-2);\n",
       "}\n",
       "\n",
       "/* Specification for estimator info (e.g. \"i\" and \"?\") */\n",
       "\n",
       "/* Common style for \"i\" and \"?\" */\n",
       "\n",
       ".sk-estimator-doc-link,\n",
       "a:link.sk-estimator-doc-link,\n",
       "a:visited.sk-estimator-doc-link {\n",
       "  float: right;\n",
       "  font-size: smaller;\n",
       "  line-height: 1em;\n",
       "  font-family: monospace;\n",
       "  background-color: var(--sklearn-color-background);\n",
       "  border-radius: 1em;\n",
       "  height: 1em;\n",
       "  width: 1em;\n",
       "  text-decoration: none !important;\n",
       "  margin-left: 0.5em;\n",
       "  text-align: center;\n",
       "  /* unfitted */\n",
       "  border: var(--sklearn-color-unfitted-level-1) 1pt solid;\n",
       "  color: var(--sklearn-color-unfitted-level-1);\n",
       "}\n",
       "\n",
       ".sk-estimator-doc-link.fitted,\n",
       "a:link.sk-estimator-doc-link.fitted,\n",
       "a:visited.sk-estimator-doc-link.fitted {\n",
       "  /* fitted */\n",
       "  border: var(--sklearn-color-fitted-level-1) 1pt solid;\n",
       "  color: var(--sklearn-color-fitted-level-1);\n",
       "}\n",
       "\n",
       "/* On hover */\n",
       "div.sk-estimator:hover .sk-estimator-doc-link:hover,\n",
       ".sk-estimator-doc-link:hover,\n",
       "div.sk-label-container:hover .sk-estimator-doc-link:hover,\n",
       ".sk-estimator-doc-link:hover {\n",
       "  /* unfitted */\n",
       "  background-color: var(--sklearn-color-unfitted-level-3);\n",
       "  color: var(--sklearn-color-background);\n",
       "  text-decoration: none;\n",
       "}\n",
       "\n",
       "div.sk-estimator.fitted:hover .sk-estimator-doc-link.fitted:hover,\n",
       ".sk-estimator-doc-link.fitted:hover,\n",
       "div.sk-label-container:hover .sk-estimator-doc-link.fitted:hover,\n",
       ".sk-estimator-doc-link.fitted:hover {\n",
       "  /* fitted */\n",
       "  background-color: var(--sklearn-color-fitted-level-3);\n",
       "  color: var(--sklearn-color-background);\n",
       "  text-decoration: none;\n",
       "}\n",
       "\n",
       "/* Span, style for the box shown on hovering the info icon */\n",
       ".sk-estimator-doc-link span {\n",
       "  display: none;\n",
       "  z-index: 9999;\n",
       "  position: relative;\n",
       "  font-weight: normal;\n",
       "  right: .2ex;\n",
       "  padding: .5ex;\n",
       "  margin: .5ex;\n",
       "  width: min-content;\n",
       "  min-width: 20ex;\n",
       "  max-width: 50ex;\n",
       "  color: var(--sklearn-color-text);\n",
       "  box-shadow: 2pt 2pt 4pt #999;\n",
       "  /* unfitted */\n",
       "  background: var(--sklearn-color-unfitted-level-0);\n",
       "  border: .5pt solid var(--sklearn-color-unfitted-level-3);\n",
       "}\n",
       "\n",
       ".sk-estimator-doc-link.fitted span {\n",
       "  /* fitted */\n",
       "  background: var(--sklearn-color-fitted-level-0);\n",
       "  border: var(--sklearn-color-fitted-level-3);\n",
       "}\n",
       "\n",
       ".sk-estimator-doc-link:hover span {\n",
       "  display: block;\n",
       "}\n",
       "\n",
       "/* \"?\"-specific style due to the `<a>` HTML tag */\n",
       "\n",
       "#sk-container-id-5 a.estimator_doc_link {\n",
       "  float: right;\n",
       "  font-size: 1rem;\n",
       "  line-height: 1em;\n",
       "  font-family: monospace;\n",
       "  background-color: var(--sklearn-color-background);\n",
       "  border-radius: 1rem;\n",
       "  height: 1rem;\n",
       "  width: 1rem;\n",
       "  text-decoration: none;\n",
       "  /* unfitted */\n",
       "  color: var(--sklearn-color-unfitted-level-1);\n",
       "  border: var(--sklearn-color-unfitted-level-1) 1pt solid;\n",
       "}\n",
       "\n",
       "#sk-container-id-5 a.estimator_doc_link.fitted {\n",
       "  /* fitted */\n",
       "  border: var(--sklearn-color-fitted-level-1) 1pt solid;\n",
       "  color: var(--sklearn-color-fitted-level-1);\n",
       "}\n",
       "\n",
       "/* On hover */\n",
       "#sk-container-id-5 a.estimator_doc_link:hover {\n",
       "  /* unfitted */\n",
       "  background-color: var(--sklearn-color-unfitted-level-3);\n",
       "  color: var(--sklearn-color-background);\n",
       "  text-decoration: none;\n",
       "}\n",
       "\n",
       "#sk-container-id-5 a.estimator_doc_link.fitted:hover {\n",
       "  /* fitted */\n",
       "  background-color: var(--sklearn-color-fitted-level-3);\n",
       "}\n",
       "</style><div id=\"sk-container-id-5\" class=\"sk-top-container\"><div class=\"sk-text-repr-fallback\"><pre>AdaBoostClassifier(learning_rate=1)</pre><b>In a Jupyter environment, please rerun this cell to show the HTML representation or trust the notebook. <br />On GitHub, the HTML representation is unable to render, please try loading this page with nbviewer.org.</b></div><div class=\"sk-container\" hidden><div class=\"sk-item\"><div class=\"sk-estimator fitted sk-toggleable\"><input class=\"sk-toggleable__control sk-hidden--visually\" id=\"sk-estimator-id-5\" type=\"checkbox\" checked><label for=\"sk-estimator-id-5\" class=\"sk-toggleable__label fitted sk-toggleable__label-arrow\"><div><div>AdaBoostClassifier</div></div><div><a class=\"sk-estimator-doc-link fitted\" rel=\"noreferrer\" target=\"_blank\" href=\"https://scikit-learn.org/1.6/modules/generated/sklearn.ensemble.AdaBoostClassifier.html\">?<span>Documentation for AdaBoostClassifier</span></a><span class=\"sk-estimator-doc-link fitted\">i<span>Fitted</span></span></div></label><div class=\"sk-toggleable__content fitted\"><pre>AdaBoostClassifier(learning_rate=1)</pre></div> </div></div></div></div>"
      ],
      "text/plain": [
       "AdaBoostClassifier(learning_rate=1)"
      ]
     },
     "execution_count": 72,
     "metadata": {},
     "output_type": "execute_result"
    }
   ],
   "source": [
    "adb_model.fit(X_train, y_train)"
   ]
  },
  {
   "cell_type": "markdown",
   "metadata": {},
   "source": [
    "Test Model"
   ]
  },
  {
   "cell_type": "code",
   "execution_count": 73,
   "metadata": {},
   "outputs": [],
   "source": [
    "y_pred = adb_model.predict(X_test)"
   ]
  },
  {
   "cell_type": "markdown",
   "metadata": {},
   "source": [
    "# 4. Evaluate Model"
   ]
  },
  {
   "cell_type": "markdown",
   "metadata": {},
   "source": [
    "Confussion Matrix"
   ]
  },
  {
   "cell_type": "code",
   "execution_count": 74,
   "metadata": {},
   "outputs": [],
   "source": [
    "cm = confusion_matrix(y_test, y_pred)\n",
    "label_names = adb_model.classes_"
   ]
  },
  {
   "cell_type": "markdown",
   "metadata": {},
   "source": [
    "Visualize Confussion Matrix"
   ]
  },
  {
   "cell_type": "code",
   "execution_count": 75,
   "metadata": {},
   "outputs": [
    {
     "data": {
      "image/png": "[encoded data removed]",
      "text/plain": [
       "<Figure size 640x480 with 2 Axes>"
      ]
     },
     "metadata": {},
     "output_type": "display_data"
    }
   ],
   "source": [
    "disp = ConfusionMatrixDisplay(confusion_matrix=cm, display_labels=label_names)\n",
    "disp.plot(cmap='Blues')\n",
    "plt.show()"
   ]
  },
  {
   "cell_type": "markdown",
   "metadata": {},
   "source": [
    "Calculate Performance Metrics"
   ]
  },
  {
   "cell_type": "code",
   "execution_count": 76,
   "metadata": {},
   "outputs": [],
   "source": [
    "tn, fp, fn, tp = cm.ravel()\n",
    "specificity = tn / (tn + fp)\n",
    "recall = tp / (tp + fn)\n",
    "precision = tp / (tp + fp)\n",
    "accuracy = (tp + tn) / (tp + tn + fp + fn)\n",
    "f1 = 2 * (precision * recall) / (precision + recall)\n",
    "\n",
    "performance_metrics = {\n",
    "    'Metric': ['Accuracy', 'Precision', 'Specificity', 'Recall', 'F1 Score'],\n",
    "    'Value': [accuracy, precision, specificity, recall, f1]\n",
    "}"
   ]
  },
  {
   "cell_type": "markdown",
   "metadata": {},
   "source": [
    "Visualize Performance Metrics"
   ]
  },
  {
   "cell_type": "code",
   "execution_count": 77,
   "metadata": {},
   "outputs": [
    {
     "data": {
      "image/png": "[encoded data removed]",
      "text/plain": [
       "<Figure size 800x500 with 1 Axes>"
      ]
     },
     "metadata": {},
     "output_type": "display_data"
    }
   ],
   "source": [
    "# Ekstrak nilai\n",
    "metrics = performance_metrics['Metric']\n",
    "values = np.array(performance_metrics['Value']) * 100  # Ubah ke skala 0 - 100\n",
    "\n",
    "# Plot histogram\n",
    "plt.figure(figsize=(8, 5))\n",
    "bars = plt.bar(metrics, values, color='skyblue', edgecolor='black')\n",
    "\n",
    "# Tambahkan nilai di atas setiap bin\n",
    "for bar in bars:\n",
    "    yval = bar.get_height()\n",
    "    plt.text(bar.get_x() + bar.get_width()/2, yval, f'{yval:.2f}%', ha='center', va='bottom', fontsize=12)\n",
    "\n",
    "# Label dan judul\n",
    "plt.ylabel('Value (%)')\n",
    "plt.title('Performance Metrics')\n",
    "plt.ylim(0, 100)\n",
    "plt.grid(axis='y', linestyle='--', alpha=0.7)\n",
    "\n",
    "# Tampilkan plot\n",
    "plt.show()"
   ]
  },
  {
   "cell_type": "markdown",
   "metadata": {},
   "source": [
    "Visualize Train and Test Accuracy"
   ]
  },
  {
   "cell_type": "code",
   "execution_count": 78,
   "metadata": {},
   "outputs": [
    {
     "data": {
      "image/png": "[encoded data removed]",
      "text/plain": [
       "<Figure size 600x400 with 1 Axes>"
      ]
     },
     "metadata": {},
     "output_type": "display_data"
    }
   ],
   "source": [
    "# Train vs Test Accuracy\n",
    "train_accuracy = adb_model.score(X_train, y_train) * 100\n",
    "test_accuracy = adb_model.score(X_test, y_test) * 100\n",
    "\n",
    "accuracy_metrics = {\n",
    "    'Metric': ['Train Accuracy', 'Test Accuracy'],\n",
    "    'Value': [train_accuracy, test_accuracy]\n",
    "}\n",
    "\n",
    "# Ekstrak nilai\n",
    "accuracy_labels = accuracy_metrics['Metric']\n",
    "accuracy_values = accuracy_metrics['Value']\n",
    "\n",
    "# Plot histogram untuk train vs test accuracy\n",
    "plt.figure(figsize=(6, 4))\n",
    "\n",
    "bars = plt.bar(accuracy_labels, accuracy_values, color='skyblue', edgecolor='black')\n",
    "# Tambahkan nilai di atas setiap bin\n",
    "for bar in bars:\n",
    "    yval = bar.get_height()\n",
    "    plt.text(bar.get_x() + bar.get_width()/2, yval, f'{yval:.2f}%', ha='center', va='bottom', fontsize=12)\n",
    "\n",
    "# Label dan judul\n",
    "plt.ylabel('Accuracy (%)')\n",
    "plt.title('Train vs Test Accuracy')\n",
    "plt.ylim(0, 100)\n",
    "plt.grid(axis='y', linestyle='--', alpha=0.7)\n",
    "\n",
    "# Tampilkan plot\n",
    "plt.show()"
   ]
  },
  {
   "cell_type": "markdown",
   "metadata": {},
   "source": [
    "Feature Importances"
   ]
  },
  {
   "cell_type": "code",
   "execution_count": 79,
   "metadata": {},
   "outputs": [
    {
     "data": {
      "image/png": "[encoded data removed]",
      "text/plain": [
       "<Figure size 1000x1050 with 1 Axes>"
      ]
     },
     "metadata": {},
     "output_type": "display_data"
    }
   ],
   "source": [
    "importances = adb_model.feature_importances_\n",
    "feature_names = X.columns  # Menggunakan nama fitur yang benar\n",
    "\n",
    "# Filter fitur dengan importance > 0\n",
    "mask = importances > 0\n",
    "filtered_importances = importances[mask]\n",
    "filtered_features = np.array(feature_names)[mask]\n",
    "\n",
    "# Urutkan dari yang terbesar ke terkecil\n",
    "sorted_indices = np.argsort(filtered_importances)[::-1]\n",
    "sorted_importances = filtered_importances[sorted_indices]\n",
    "sorted_features = filtered_features[sorted_indices]\n",
    "\n",
    "# Plot hasilnya\n",
    "plt.figure(figsize=(10, len(sorted_features) * 0.5))  # Menyesuaikan tinggi gambar\n",
    "plt.barh(sorted_features, sorted_importances, color='teal', edgecolor='black')\n",
    "plt.xlabel('Importance')\n",
    "plt.ylabel('Features')\n",
    "plt.title('Feature Importances (> 0 only)')\n",
    "plt.gca().invert_yaxis()  # Membalikkan urutan agar fitur terpenting di atas\n",
    "\n",
    "# Tambahkan nilai di samping setiap bar\n",
    "for index, value in enumerate(sorted_importances):\n",
    "    plt.text(value, index, f'{value:.4f}', va='center', fontsize=10)\n",
    "\n",
    "plt.show()"
   ]
  },
  {
   "cell_type": "code",
   "execution_count": 80,
   "metadata": {},
   "outputs": [
    {
     "name": "stdout",
     "output_type": "stream",
     "text": [
      "Index(['mean_r', 'mean_g', 'mean_b', 'std_r', 'skew_r', 'skew_g', 'skew_b',\n",
      "       'mean_lbp', 'median_lbp', 'kurtosis_lbp', 'GLN_deg0', 'RLN_deg0',\n",
      "       'RP_deg0', 'HGL_deg0', 'SRHGLE_deg0', 'LRE_deg45', 'GLN_deg45',\n",
      "       'RLN_deg45', 'RP_deg45', 'HGL_deg45', 'SRLGLE_deg45', 'SRHGLE_deg45',\n",
      "       'LRHGLE_deg45', 'RLN_deg90', 'HGL_deg90', 'SRLGLE_deg90',\n",
      "       'LRHGLE_deg90', 'SRE_deg135', 'LRE_deg135', 'RLN_deg135', 'RP_deg135',\n",
      "       'LGLRE_deg135', 'HGL_deg135', 'SRLGLE_deg135', 'SRHGLE_deg135',\n",
      "       'LRHGLE_deg135', 'coarseness_tamura'],\n",
      "      dtype='object')\n"
     ]
    }
   ],
   "source": [
    "# Filter fitur dengan importance = 0\n",
    "zero_importance_features = feature_names[importances == 0]\n",
    "\n",
    "# Cetak hasilnya dalam bentuk array\n",
    "print(zero_importance_features)"
   ]
  }
 ],
 "metadata": {
  "kernelspec": {
   "display_name": "pengolahan_citra",
   "language": "python",
   "name": "python3"
  },
  "language_info": {
   "codemirror_mode": {
    "name": "ipython",
    "version": 3
   },
   "file_extension": ".py",
   "mimetype": "text/x-python",
   "name": "python",
   "nbconvert_exporter": "python",
   "pygments_lexer": "ipython3",
   "version": "3.12.4"
  }
 },
 "nbformat": 4,
 "nbformat_minor": 2
}
