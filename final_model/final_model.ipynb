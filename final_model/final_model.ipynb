{
 "cells": [
  {
   "cell_type": "code",
   "execution_count": 1,
   "metadata": {},
   "outputs": [],
   "source": [
    "from rgb_to_gray import rgb_to_gray_converter\n",
    "from multiotsu_segmentation import multiotsu_masking\n",
    "from bitwise_operation import get_segmented_image\n",
    "\n",
    "from cerviscan_feature_extraction import get_cerviscan_features\n",
    "\n",
    "import os\n",
    "import pickle\n",
    "import matplotlib.pyplot as plt \n",
    "import cv2\n"
   ]
  },
  {
   "cell_type": "code",
   "execution_count": 2,
   "metadata": {},
   "outputs": [],
   "source": [
    "image_path = \"./AAM1.jpg\""
   ]
  },
  {
   "cell_type": "code",
   "execution_count": 4,
   "metadata": {},
   "outputs": [
    {
     "data": {
      "text/plain": [
       "True"
      ]
     },
     "execution_count": 4,
     "metadata": {},
     "output_type": "execute_result"
    }
   ],
   "source": [
    "gray_image = rgb_to_gray_converter(image_path)\n",
    "gray_path = os.path.join('./', f'gray_{image_path[2:]}')\n",
    "cv2.imwrite(gray_path, gray_image)"
   ]
  },
  {
   "cell_type": "code",
   "execution_count": 6,
   "metadata": {},
   "outputs": [],
   "source": [
    "mask_image = multiotsu_masking(gray_path)\n",
    "mask_path = os.path.join('./', f'mask_{image_path[2:]}')\n",
    "plt.imsave(mask_path, mask_image, cmap=\"gray\")"
   ]
  },
  {
   "cell_type": "code",
   "execution_count": 7,
   "metadata": {},
   "outputs": [
    {
     "data": {
      "text/plain": [
       "True"
      ]
     },
     "execution_count": 7,
     "metadata": {},
     "output_type": "execute_result"
    }
   ],
   "source": [
    "original_image = cv2.imread(image_path)\n",
    "segmented_image = get_segmented_image(original_image, mask_path)\n",
    "segmented_path = os.path.join('./', f'segmented_{image_path[2:]}')\n",
    "cv2.imwrite(segmented_path, segmented_image)"
   ]
  },
  {
   "cell_type": "code",
   "execution_count": 8,
   "metadata": {},
   "outputs": [
    {
     "data": {
      "text/html": [
       "<div>\n",
       "<style scoped>\n",
       "    .dataframe tbody tr th:only-of-type {\n",
       "        vertical-align: middle;\n",
       "    }\n",
       "\n",
       "    .dataframe tbody tr th {\n",
       "        vertical-align: top;\n",
       "    }\n",
       "\n",
       "    .dataframe thead th {\n",
       "        text-align: right;\n",
       "    }\n",
       "</style>\n",
       "<table border=\"1\" class=\"dataframe\">\n",
       "  <thead>\n",
       "    <tr style=\"text-align: right;\">\n",
       "      <th></th>\n",
       "      <th>mean_y</th>\n",
       "      <th>mean_u</th>\n",
       "      <th>mean_v</th>\n",
       "      <th>std_y</th>\n",
       "      <th>std_u</th>\n",
       "      <th>std_v</th>\n",
       "      <th>skew_y</th>\n",
       "      <th>skew_u</th>\n",
       "      <th>skew_v</th>\n",
       "      <th>mean</th>\n",
       "      <th>...</th>\n",
       "      <th>RP_deg135</th>\n",
       "      <th>LGLRE_deg135</th>\n",
       "      <th>HGL_deg135</th>\n",
       "      <th>SRLGLE_deg135</th>\n",
       "      <th>SRHGLE_deg135</th>\n",
       "      <th>LRHGLE_deg135</th>\n",
       "      <th>Coarseness</th>\n",
       "      <th>Contrast</th>\n",
       "      <th>Directionality</th>\n",
       "      <th>Roughness</th>\n",
       "    </tr>\n",
       "  </thead>\n",
       "  <tbody>\n",
       "    <tr>\n",
       "      <th>0</th>\n",
       "      <td>39.66686</td>\n",
       "      <td>1.543218</td>\n",
       "      <td>12.652478</td>\n",
       "      <td>84.499885</td>\n",
       "      <td>3.830993</td>\n",
       "      <td>26.223517</td>\n",
       "      <td>1.720465</td>\n",
       "      <td>2.747886</td>\n",
       "      <td>1.780582</td>\n",
       "      <td>213.294889</td>\n",
       "      <td>...</td>\n",
       "      <td>0.692008</td>\n",
       "      <td>0.160439</td>\n",
       "      <td>23103.732844</td>\n",
       "      <td>0.113026</td>\n",
       "      <td>21523.288955</td>\n",
       "      <td>32070.836403</td>\n",
       "      <td>6.33309</td>\n",
       "      <td>59.752233</td>\n",
       "      <td>512.845826</td>\n",
       "      <td>66.085322</td>\n",
       "    </tr>\n",
       "  </tbody>\n",
       "</table>\n",
       "<p>1 rows × 58 columns</p>\n",
       "</div>"
      ],
      "text/plain": [
       "     mean_y    mean_u     mean_v      std_y     std_u      std_v    skew_y  \\\n",
       "0  39.66686  1.543218  12.652478  84.499885  3.830993  26.223517  1.720465   \n",
       "\n",
       "     skew_u    skew_v        mean  ...  RP_deg135  LGLRE_deg135    HGL_deg135  \\\n",
       "0  2.747886  1.780582  213.294889  ...   0.692008      0.160439  23103.732844   \n",
       "\n",
       "   SRLGLE_deg135  SRHGLE_deg135  LRHGLE_deg135  Coarseness   Contrast  \\\n",
       "0       0.113026   21523.288955   32070.836403     6.33309  59.752233   \n",
       "\n",
       "   Directionality  Roughness  \n",
       "0      512.845826  66.085322  \n",
       "\n",
       "[1 rows x 58 columns]"
      ]
     },
     "execution_count": 8,
     "metadata": {},
     "output_type": "execute_result"
    }
   ],
   "source": [
    "image_features = get_cerviscan_features(segmented_path)\n",
    "image_features"
   ]
  },
  {
   "cell_type": "code",
   "execution_count": null,
   "metadata": {},
   "outputs": [
    {
     "ename": "FileNotFoundError",
     "evalue": "[Errno 2] No such file or directory: './model/xgb_best'",
     "output_type": "error",
     "traceback": [
      "\u001b[1;31m---------------------------------------------------------------------------\u001b[0m",
      "\u001b[1;31mFileNotFoundError\u001b[0m                         Traceback (most recent call last)",
      "Cell \u001b[1;32mIn[9], line 1\u001b[0m\n\u001b[1;32m----> 1\u001b[0m model \u001b[38;5;241m=\u001b[39m pickle\u001b[38;5;241m.\u001b[39mload(\u001b[38;5;28;43mopen\u001b[39;49m\u001b[43m(\u001b[49m\u001b[38;5;124;43m'\u001b[39;49m\u001b[38;5;124;43m./model/xgb_best\u001b[39;49m\u001b[38;5;124;43m'\u001b[39;49m\u001b[43m,\u001b[49m\u001b[43m \u001b[49m\u001b[38;5;124;43m'\u001b[39;49m\u001b[38;5;124;43mrb\u001b[39;49m\u001b[38;5;124;43m'\u001b[39;49m\u001b[43m)\u001b[49m)\n\u001b[0;32m      2\u001b[0m prediction \u001b[38;5;241m=\u001b[39m model\u001b[38;5;241m.\u001b[39mpredict(image_features)\n\u001b[0;32m      3\u001b[0m \u001b[38;5;28;01mif\u001b[39;00m prediction[\u001b[38;5;241m0\u001b[39m] \u001b[38;5;241m==\u001b[39m \u001b[38;5;241m0\u001b[39m:\n",
      "File \u001b[1;32mc:\\Anaconda\\envs\\pengolahan_citra\\Lib\\site-packages\\IPython\\core\\interactiveshell.py:324\u001b[0m, in \u001b[0;36m_modified_open\u001b[1;34m(file, *args, **kwargs)\u001b[0m\n\u001b[0;32m    317\u001b[0m \u001b[38;5;28;01mif\u001b[39;00m file \u001b[38;5;129;01min\u001b[39;00m {\u001b[38;5;241m0\u001b[39m, \u001b[38;5;241m1\u001b[39m, \u001b[38;5;241m2\u001b[39m}:\n\u001b[0;32m    318\u001b[0m     \u001b[38;5;28;01mraise\u001b[39;00m \u001b[38;5;167;01mValueError\u001b[39;00m(\n\u001b[0;32m    319\u001b[0m         \u001b[38;5;124mf\u001b[39m\u001b[38;5;124m\"\u001b[39m\u001b[38;5;124mIPython won\u001b[39m\u001b[38;5;124m'\u001b[39m\u001b[38;5;124mt let you open fd=\u001b[39m\u001b[38;5;132;01m{\u001b[39;00mfile\u001b[38;5;132;01m}\u001b[39;00m\u001b[38;5;124m by default \u001b[39m\u001b[38;5;124m\"\u001b[39m\n\u001b[0;32m    320\u001b[0m         \u001b[38;5;124m\"\u001b[39m\u001b[38;5;124mas it is likely to crash IPython. If you know what you are doing, \u001b[39m\u001b[38;5;124m\"\u001b[39m\n\u001b[0;32m    321\u001b[0m         \u001b[38;5;124m\"\u001b[39m\u001b[38;5;124myou can use builtins\u001b[39m\u001b[38;5;124m'\u001b[39m\u001b[38;5;124m open.\u001b[39m\u001b[38;5;124m\"\u001b[39m\n\u001b[0;32m    322\u001b[0m     )\n\u001b[1;32m--> 324\u001b[0m \u001b[38;5;28;01mreturn\u001b[39;00m \u001b[43mio_open\u001b[49m\u001b[43m(\u001b[49m\u001b[43mfile\u001b[49m\u001b[43m,\u001b[49m\u001b[43m \u001b[49m\u001b[38;5;241;43m*\u001b[39;49m\u001b[43margs\u001b[49m\u001b[43m,\u001b[49m\u001b[43m \u001b[49m\u001b[38;5;241;43m*\u001b[39;49m\u001b[38;5;241;43m*\u001b[39;49m\u001b[43mkwargs\u001b[49m\u001b[43m)\u001b[49m\n",
      "\u001b[1;31mFileNotFoundError\u001b[0m: [Errno 2] No such file or directory: './model/xgb_best'"
     ]
    }
   ],
   "source": [
    "model = pickle.load(open('./xgb_best', 'rb'))\n",
    "prediction = model.predict(image_features)\n",
    "if prediction[0] == 0:\n",
    "    print(\"NORMAL\")\n",
    "else:\n",
    "    print(\"ABNORMAL\")"
   ]
  }
 ],
 "metadata": {
  "kernelspec": {
   "display_name": "pengolahan_citra",
   "language": "python",
   "name": "python3"
  },
  "language_info": {
   "codemirror_mode": {
    "name": "ipython",
    "version": 3
   },
   "file_extension": ".py",
   "mimetype": "text/x-python",
   "name": "python",
   "nbconvert_exporter": "python",
   "pygments_lexer": "ipython3",
   "version": "3.12.4"
  }
 },
 "nbformat": 4,
 "nbformat_minor": 2
}
